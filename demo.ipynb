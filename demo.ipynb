{
 "cells": [
  {
   "cell_type": "code",
   "execution_count": 1,
   "metadata": {},
   "outputs": [],
   "source": [
    "%load_ext autoreload\n",
    "%autoreload 2"
   ]
  },
  {
   "cell_type": "code",
   "execution_count": 6,
   "metadata": {},
   "outputs": [],
   "source": [
    "from tgbot.tgbot import TelegramBot"
   ]
  },
  {
   "cell_type": "code",
   "execution_count": 7,
   "metadata": {},
   "outputs": [],
   "source": [
    "bot = TelegramBot()"
   ]
  },
  {
   "cell_type": "code",
   "execution_count": 8,
   "metadata": {},
   "outputs": [
    {
     "data": {
      "text/plain": [
       "{'ok': True,\n",
       " 'result': {'message_id': 37,\n",
       "  'from': {'id': 855466519,\n",
       "   'is_bot': True,\n",
       "   'first_name': 'DÅNKBØT',\n",
       "   'username': 'daenkbot'},\n",
       "  'chat': {'id': 8587102,\n",
       "   'first_name': 'Caglar',\n",
       "   'username': 'caglorithm',\n",
       "   'type': 'private'},\n",
       "  'date': 1593777273,\n",
       "  'text': 'Asd'}}"
      ]
     },
     "execution_count": 8,
     "metadata": {},
     "output_type": "execute_result"
    }
   ],
   "source": [
    "bot.sendMsg(\"Asd\")"
   ]
  },
  {
   "cell_type": "code",
   "execution_count": 9,
   "metadata": {},
   "outputs": [
    {
     "data": {
      "text/plain": [
       "(200,\n",
       " 'OK',\n",
       " b'{\"ok\":true,\"result\":{\"message_id\":38,\"from\":{\"id\":855466519,\"is_bot\":true,\"first_name\":\"D\\\\u00c5NKB\\\\u00d8T\",\"username\":\"daenkbot\"},\"chat\":{\"id\":8587102,\"first_name\":\"Caglar\",\"username\":\"caglorithm\",\"type\":\"private\"},\"date\":1593777275,\"photo\":[{\"file_id\":\"AgACAgQAAxkDAAMmXv8ce5pcZd2iBX_r9fRbr1ODiI4AAia0MRvVivhT7V3dVUjoRSDOJXkjXQADAQADAgADbQADiTcDAAEaBA\",\"file_unique_id\":\"AQADziV5I10AA4k3AwAB\",\"file_size\":8753,\"width\":87,\"height\":320},{\"file_id\":\"AgACAgQAAxkDAAMmXv8ce5pcZd2iBX_r9fRbr1ODiI4AAia0MRvVivhT7V3dVUjoRSDOJXkjXQADAQADAgADeAADijcDAAEaBA\",\"file_unique_id\":\"AQADziV5I10AA4o3AwAB\",\"file_size\":37649,\"width\":217,\"height\":800},{\"file_id\":\"AgACAgQAAxkDAAMmXv8ce5pcZd2iBX_r9fRbr1ODiI4AAia0MRvVivhT7V3dVUjoRSDOJXkjXQADAQADAgADeQADizcDAAEaBA\",\"file_unique_id\":\"AQADziV5I10AA4s3AwAB\",\"file_size\":74573,\"width\":347,\"height\":1280},{\"file_id\":\"AgACAgQAAxkDAAMmXv8ce5pcZd2iBX_r9fRbr1ODiI4AAia0MRvVivhT7V3dVUjoRSDOJXkjXQADAQADAgADdwADjDcDAAEaBA\",\"file_unique_id\":\"AQADziV5I10AA4w3AwAB\",\"file_size\":189588,\"width\":694,\"height\":2560}]}}')"
      ]
     },
     "execution_count": 9,
     "metadata": {},
     "output_type": "execute_result"
    }
   ],
   "source": [
    "bot.sendImage(\"/Users/caglar/python/notebooks/images/covid-dashboard/dashboard.png\")"
   ]
  },
  {
   "cell_type": "code",
   "execution_count": 10,
   "metadata": {},
   "outputs": [
    {
     "data": {
      "text/plain": [
       "(200,\n",
       " 'OK',\n",
       " b'{\"ok\":true,\"result\":{\"message_id\":39,\"from\":{\"id\":855466519,\"is_bot\":true,\"first_name\":\"D\\\\u00c5NKB\\\\u00d8T\",\"username\":\"daenkbot\"},\"chat\":{\"id\":8587102,\"first_name\":\"Caglar\",\"username\":\"caglorithm\",\"type\":\"private\"},\"date\":1593777279,\"document\":{\"file_name\":\"large.png\",\"mime_type\":\"image/png\",\"file_id\":\"BQACAgQAAxkDAAMnXv8cfsyLOMyp3qh8UfdBDgk2dNoAAo0HAALVivhTGCodr7qGchIaBA\",\"file_unique_id\":\"AgADjQcAAtWK-FM\",\"file_size\":1841154}}}')"
      ]
     },
     "execution_count": 10,
     "metadata": {},
     "output_type": "execute_result"
    }
   ],
   "source": [
    "bot.sendFile(\"/Users/caglar/python/notebooks/images/covid-dashboard/large.png\")"
   ]
  },
  {
   "cell_type": "code",
   "execution_count": 9,
   "metadata": {},
   "outputs": [
    {
     "data": {
      "text/plain": [
       "(200,\n",
       " 'OK',\n",
       " b'{\"ok\":true,\"result\":{\"message_id\":36,\"from\":{\"id\":855466519,\"is_bot\":true,\"first_name\":\"D\\\\u00c5NKB\\\\u00d8T\",\"username\":\"daenkbot\"},\"chat\":{\"id\":8587102,\"first_name\":\"Caglar\",\"username\":\"caglorithm\",\"type\":\"private\"},\"date\":1593776201,\"photo\":[{\"file_id\":\"AgACAgQAAxkDAAMkXv8YSfNQJ6VDl16oqFQHq51l4moAAie0MRvVivhTufO_dK1V_XssQ5QiXQADAQADAgADbQADQjIFAAEaBA\",\"file_unique_id\":\"AQADLEOUIl0AA0IyBQAB\",\"file_size\":4066,\"width\":184,\"height\":60}]}}')"
      ]
     },
     "execution_count": 9,
     "metadata": {},
     "output_type": "execute_result"
    }
   ],
   "source": [
    "bot.sendRemoteImage(\"https://www.google.com/images/branding/googlelogo/2x/googlelogo_color_92x30dp.png\")"
   ]
  },
  {
   "cell_type": "code",
   "execution_count": null,
   "metadata": {},
   "outputs": [],
   "source": []
  }
 ],
 "metadata": {
  "kernelspec": {
   "display_name": "Python 3",
   "language": "python",
   "name": "python3"
  },
  "language_info": {
   "codemirror_mode": {
    "name": "ipython",
    "version": 3
   },
   "file_extension": ".py",
   "mimetype": "text/x-python",
   "name": "python",
   "nbconvert_exporter": "python",
   "pygments_lexer": "ipython3",
   "version": "3.7.3"
  }
 },
 "nbformat": 4,
 "nbformat_minor": 4
}
